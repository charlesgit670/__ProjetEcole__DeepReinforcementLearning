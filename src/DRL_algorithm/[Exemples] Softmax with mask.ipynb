{
  "nbformat": 4,
  "nbformat_minor": 0,
  "metadata": {
    "colab": {
      "provenance": []
    },
    "kernelspec": {
      "name": "python3",
      "display_name": "Python 3"
    },
    "language_info": {
      "name": "python"
    }
  },
  "cells": [
    {
      "cell_type": "code",
      "source": [
        "import numpy as np"
      ],
      "metadata": {
        "id": "2D-B2wxU9i_W"
      },
      "execution_count": null,
      "outputs": []
    },
    {
      "cell_type": "code",
      "execution_count": null,
      "metadata": {
        "id": "TPzlbkgE9Om-"
      },
      "outputs": [],
      "source": [
        "def softmax(X: np.ndarray):\n",
        "  return np.exp(X)/np.sum(np.exp(X))"
      ]
    },
    {
      "cell_type": "code",
      "source": [
        "softmax(np.array([1, 2, 3]))"
      ],
      "metadata": {
        "colab": {
          "base_uri": "https://localhost:8080/"
        },
        "id": "5jccsN8R9jyd",
        "outputId": "db7074d8-55e9-4d8e-807a-0d555936832a"
      },
      "execution_count": null,
      "outputs": [
        {
          "output_type": "execute_result",
          "data": {
            "text/plain": [
              "array([0.09003057, 0.24472847, 0.66524096])"
            ]
          },
          "metadata": {},
          "execution_count": 3
        }
      ]
    },
    {
      "cell_type": "code",
      "source": [
        "# ouch\n",
        "softmax(np.array([1, 2, 5000]))"
      ],
      "metadata": {
        "colab": {
          "base_uri": "https://localhost:8080/"
        },
        "id": "6BraviPB9poB",
        "outputId": "73aed262-1c96-445d-9ae9-fa63158577d9"
      },
      "execution_count": null,
      "outputs": [
        {
          "output_type": "stream",
          "name": "stderr",
          "text": [
            "<ipython-input-2-07948f78ad89>:2: RuntimeWarning: overflow encountered in exp\n",
            "  return np.exp(X)/np.sum(np.exp(X))\n",
            "<ipython-input-2-07948f78ad89>:2: RuntimeWarning: invalid value encountered in divide\n",
            "  return np.exp(X)/np.sum(np.exp(X))\n"
          ]
        },
        {
          "output_type": "execute_result",
          "data": {
            "text/plain": [
              "array([ 0.,  0., nan])"
            ]
          },
          "metadata": {},
          "execution_count": 4
        }
      ]
    },
    {
      "cell_type": "code",
      "source": [
        "def softmax_with_trick(X: np.ndarray):\n",
        "  max_X = np.max(X)\n",
        "  return np.exp(X - max_X)/np.sum(np.exp(X - max_X))"
      ],
      "metadata": {
        "id": "ukrj3Nkb91qz"
      },
      "execution_count": null,
      "outputs": []
    },
    {
      "cell_type": "code",
      "source": [
        "softmax_with_trick(np.array([1, 2, 3]))"
      ],
      "metadata": {
        "colab": {
          "base_uri": "https://localhost:8080/"
        },
        "id": "5bodGLf9_BGS",
        "outputId": "bc1acab6-f9df-4720-fc75-6436277296fc"
      },
      "execution_count": null,
      "outputs": [
        {
          "output_type": "execute_result",
          "data": {
            "text/plain": [
              "array([0.09003057, 0.24472847, 0.66524096])"
            ]
          },
          "metadata": {},
          "execution_count": 6
        }
      ]
    },
    {
      "cell_type": "code",
      "source": [
        "softmax_with_trick(np.array([1, 2, 5000]))"
      ],
      "metadata": {
        "colab": {
          "base_uri": "https://localhost:8080/"
        },
        "id": "H_XBiW0H_C_B",
        "outputId": "eb623e13-b7e7-4bcd-982d-dd39c56bb003"
      },
      "execution_count": null,
      "outputs": [
        {
          "output_type": "execute_result",
          "data": {
            "text/plain": [
              "array([0., 0., 1.])"
            ]
          },
          "metadata": {},
          "execution_count": 7
        }
      ]
    },
    {
      "cell_type": "code",
      "source": [
        "def softmax_with_mask_naive(X: np.ndarray, M: np.ndarray):\n",
        "  exp_X = np.exp(X)\n",
        "  masked_exp_X = exp_X * M\n",
        "  return masked_exp_X/np.sum(masked_exp_X)"
      ],
      "metadata": {
        "id": "QxES2MyL_FwC"
      },
      "execution_count": null,
      "outputs": []
    },
    {
      "cell_type": "code",
      "source": [
        "softmax_with_mask_naive(np.array([1, 2, 3]),np.array([1., 1., 0.]))"
      ],
      "metadata": {
        "colab": {
          "base_uri": "https://localhost:8080/"
        },
        "id": "yPAidolR_kHg",
        "outputId": "39be126f-5c9b-49af-834d-b572cde450ef"
      },
      "execution_count": null,
      "outputs": [
        {
          "output_type": "execute_result",
          "data": {
            "text/plain": [
              "array([0.26894142, 0.73105858, 0.        ])"
            ]
          },
          "metadata": {},
          "execution_count": 9
        }
      ]
    },
    {
      "cell_type": "code",
      "source": [
        "#ouch\n",
        "softmax_with_mask_naive(np.array([1, 20000, 3]),np.array([1., 1., 0.]))"
      ],
      "metadata": {
        "colab": {
          "base_uri": "https://localhost:8080/"
        },
        "id": "LYZaxVmA_tAa",
        "outputId": "d91cfd46-de2a-4ac2-d88b-8c61c53efb13"
      },
      "execution_count": null,
      "outputs": [
        {
          "output_type": "stream",
          "name": "stderr",
          "text": [
            "<ipython-input-8-c53689d79861>:2: RuntimeWarning: overflow encountered in exp\n",
            "  exp_X = np.exp(X)\n",
            "<ipython-input-8-c53689d79861>:4: RuntimeWarning: invalid value encountered in divide\n",
            "  return masked_exp_X/np.sum(masked_exp_X)\n"
          ]
        },
        {
          "output_type": "execute_result",
          "data": {
            "text/plain": [
              "array([ 0., nan,  0.])"
            ]
          },
          "metadata": {},
          "execution_count": 10
        }
      ]
    },
    {
      "cell_type": "code",
      "source": [
        "def softmax_with_mask_naive_with_max_trick(X: np.ndarray, M: np.ndarray):\n",
        "  max_X = np.max(X)\n",
        "  exp_X = np.exp(X - max_X)\n",
        "  masked_exp_X = exp_X * M\n",
        "  return masked_exp_X/np.sum(masked_exp_X)"
      ],
      "metadata": {
        "id": "kbgmSN6O_0Lr"
      },
      "execution_count": null,
      "outputs": []
    },
    {
      "cell_type": "code",
      "source": [
        "softmax_with_mask_naive_with_max_trick(np.array([1, 2, 3]),np.array([1., 1., 0.]))"
      ],
      "metadata": {
        "colab": {
          "base_uri": "https://localhost:8080/"
        },
        "id": "ynYF7bP9_8lS",
        "outputId": "2f84b93b-a041-4f3f-8e67-608618687491"
      },
      "execution_count": null,
      "outputs": [
        {
          "output_type": "execute_result",
          "data": {
            "text/plain": [
              "array([0.26894142, 0.73105858, 0.        ])"
            ]
          },
          "metadata": {},
          "execution_count": 12
        }
      ]
    },
    {
      "cell_type": "code",
      "source": [
        "softmax_with_mask_naive_with_max_trick(np.array([1, 20000, 3]),np.array([1., 1., 0.]))"
      ],
      "metadata": {
        "colab": {
          "base_uri": "https://localhost:8080/"
        },
        "id": "x_P0YtBI_-bG",
        "outputId": "e48caad1-c034-4e38-9d64-a030f0bd8bf8"
      },
      "execution_count": null,
      "outputs": [
        {
          "output_type": "execute_result",
          "data": {
            "text/plain": [
              "array([0., 1., 0.])"
            ]
          },
          "metadata": {},
          "execution_count": 13
        }
      ]
    },
    {
      "cell_type": "code",
      "source": [
        "softmax_with_mask_naive_with_max_trick(np.array([1, 2, 30000]),np.array([1., 1., 0.]))"
      ],
      "metadata": {
        "colab": {
          "base_uri": "https://localhost:8080/"
        },
        "id": "Lf89IysBAB_Z",
        "outputId": "fc691c83-56f6-4ce1-9c19-2dd22763b348"
      },
      "execution_count": null,
      "outputs": [
        {
          "output_type": "stream",
          "name": "stderr",
          "text": [
            "<ipython-input-11-5056f6a7939d>:5: RuntimeWarning: invalid value encountered in divide\n",
            "  return masked_exp_X/np.sum(masked_exp_X)\n"
          ]
        },
        {
          "output_type": "execute_result",
          "data": {
            "text/plain": [
              "array([nan, nan, nan])"
            ]
          },
          "metadata": {},
          "execution_count": 14
        }
      ]
    },
    {
      "cell_type": "code",
      "source": [
        "def softmax_with_mask_naive_with_max_trick2(X: np.ndarray, M: np.ndarray):\n",
        "  X = X * M\n",
        "  max_X = np.max(X)\n",
        "  exp_X = np.exp(X - max_X)\n",
        "  masked_exp_X = exp_X * M\n",
        "  return masked_exp_X/np.sum(masked_exp_X)"
      ],
      "metadata": {
        "id": "5Xv_j4k6AGC_"
      },
      "execution_count": null,
      "outputs": []
    },
    {
      "cell_type": "code",
      "source": [
        "softmax_with_mask_naive_with_max_trick2(np.array([1, 2, 3]),np.array([1., 1., 0.]))"
      ],
      "metadata": {
        "colab": {
          "base_uri": "https://localhost:8080/"
        },
        "id": "U7J6kyEfErO6",
        "outputId": "d16175bf-151b-44e1-8cd0-e82be03fb661"
      },
      "execution_count": null,
      "outputs": [
        {
          "output_type": "execute_result",
          "data": {
            "text/plain": [
              "array([0.26894142, 0.73105858, 0.        ])"
            ]
          },
          "metadata": {},
          "execution_count": 16
        }
      ]
    },
    {
      "cell_type": "code",
      "source": [
        "softmax_with_mask_naive_with_max_trick2(np.array([1, 20000, 3]),np.array([1., 1., 0.]))"
      ],
      "metadata": {
        "colab": {
          "base_uri": "https://localhost:8080/"
        },
        "id": "LMaVrw8vEvB1",
        "outputId": "601ee122-9efe-44c2-b729-de70ef28d49e"
      },
      "execution_count": null,
      "outputs": [
        {
          "output_type": "execute_result",
          "data": {
            "text/plain": [
              "array([0., 1., 0.])"
            ]
          },
          "metadata": {},
          "execution_count": 17
        }
      ]
    },
    {
      "cell_type": "code",
      "source": [
        "softmax_with_mask_naive_with_max_trick2(np.array([1, 2, 30000]),np.array([1., 1., 0.]))"
      ],
      "metadata": {
        "colab": {
          "base_uri": "https://localhost:8080/"
        },
        "id": "tkU5Pa-XExjN",
        "outputId": "3af5ecdf-15c6-4d99-e386-069469a5b1ac"
      },
      "execution_count": null,
      "outputs": [
        {
          "output_type": "execute_result",
          "data": {
            "text/plain": [
              "array([0.26894142, 0.73105858, 0.        ])"
            ]
          },
          "metadata": {},
          "execution_count": 18
        }
      ]
    },
    {
      "cell_type": "code",
      "source": [
        "#ouch\n",
        "softmax_with_mask_naive_with_max_trick2(np.array([-2222, -2222, 30000]),np.array([1., 1., 0.]))"
      ],
      "metadata": {
        "colab": {
          "base_uri": "https://localhost:8080/"
        },
        "id": "CsPKpjN_E0Da",
        "outputId": "e7e6a569-1896-4de3-ed05-355814aee758"
      },
      "execution_count": null,
      "outputs": [
        {
          "output_type": "stream",
          "name": "stderr",
          "text": [
            "<ipython-input-15-6f8718711ea8>:6: RuntimeWarning: invalid value encountered in divide\n",
            "  return masked_exp_X/np.sum(masked_exp_X)\n"
          ]
        },
        {
          "output_type": "execute_result",
          "data": {
            "text/plain": [
              "array([nan, nan, nan])"
            ]
          },
          "metadata": {},
          "execution_count": 19
        }
      ]
    },
    {
      "cell_type": "code",
      "source": [
        "def acceptable_softmax_with_mask(X: np.ndarray, M: np.ndarray):\n",
        "  positive_X = X - np.min(X)\n",
        "  masked_positive_X = positive_X * M\n",
        "  max_X = np.max(masked_positive_X)\n",
        "  exp_X = np.exp(masked_positive_X - max_X)\n",
        "  masked_exp_X = exp_X * M\n",
        "  return masked_exp_X/np.sum(masked_exp_X)"
      ],
      "metadata": {
        "id": "pMK_Vg0dE5nL"
      },
      "execution_count": null,
      "outputs": []
    },
    {
      "cell_type": "code",
      "source": [
        "acceptable_softmax_with_mask(np.array([1, 2, 3]),np.array([1., 1., 0.]))"
      ],
      "metadata": {
        "colab": {
          "base_uri": "https://localhost:8080/"
        },
        "id": "MWWC0WApFw0D",
        "outputId": "f18de79c-0d95-4256-cc3c-672269cafa00"
      },
      "execution_count": null,
      "outputs": [
        {
          "output_type": "execute_result",
          "data": {
            "text/plain": [
              "array([0.26894142, 0.73105858, 0.        ])"
            ]
          },
          "metadata": {},
          "execution_count": 21
        }
      ]
    },
    {
      "cell_type": "code",
      "source": [
        "acceptable_softmax_with_mask(np.array([1, 20000, 3]),np.array([1., 1., 0.]))"
      ],
      "metadata": {
        "colab": {
          "base_uri": "https://localhost:8080/"
        },
        "id": "1gwBgXNKFzvf",
        "outputId": "bfc01b32-88c4-420a-c549-85e8bfa0e1bf"
      },
      "execution_count": null,
      "outputs": [
        {
          "output_type": "execute_result",
          "data": {
            "text/plain": [
              "array([0., 1., 0.])"
            ]
          },
          "metadata": {},
          "execution_count": 22
        }
      ]
    },
    {
      "cell_type": "code",
      "source": [
        "acceptable_softmax_with_mask(np.array([1, 2, 30000]),np.array([1., 1., 0.]))"
      ],
      "metadata": {
        "colab": {
          "base_uri": "https://localhost:8080/"
        },
        "id": "uOUumiHyF2N1",
        "outputId": "6fdbadb6-ce5e-44e9-db07-7634b49e2564"
      },
      "execution_count": null,
      "outputs": [
        {
          "output_type": "execute_result",
          "data": {
            "text/plain": [
              "array([0.26894142, 0.73105858, 0.        ])"
            ]
          },
          "metadata": {},
          "execution_count": 23
        }
      ]
    },
    {
      "cell_type": "code",
      "source": [
        "acceptable_softmax_with_mask(np.array([-2222, -2222, 30000]),np.array([1., 1., 0.]))"
      ],
      "metadata": {
        "colab": {
          "base_uri": "https://localhost:8080/"
        },
        "id": "oZL2G9q3F4D0",
        "outputId": "4bc57bba-df56-4ccc-8eb7-36d4627ba604"
      },
      "execution_count": null,
      "outputs": [
        {
          "output_type": "execute_result",
          "data": {
            "text/plain": [
              "array([0.5, 0.5, 0. ])"
            ]
          },
          "metadata": {},
          "execution_count": 24
        }
      ]
    },
    {
      "cell_type": "code",
      "source": [
        "# proposition alternative de votre camarade :)\n",
        "def acceptable_softmax_with_mask_alt(X: np.ndarray, M: np.ndarray):\n",
        "    max_X = np.max(X[M != 0])\n",
        "    exp_X = np.exp(X - max_X)\n",
        "    exp_X[M == 0] = 0\n",
        "    masked_exp_X = exp_X * M\n",
        "\n",
        "    return masked_exp_X/np.sum(masked_exp_X)"
      ],
      "metadata": {
        "id": "35iVO-TCGHCD"
      },
      "execution_count": null,
      "outputs": []
    },
    {
      "cell_type": "code",
      "source": [
        "import tensorflow as tf"
      ],
      "metadata": {
        "id": "PH7sW13mGWup"
      },
      "execution_count": null,
      "outputs": []
    },
    {
      "cell_type": "code",
      "source": [
        "sm_layer = tf.keras.layers.Softmax()"
      ],
      "metadata": {
        "id": "oiyEwI1GID7D"
      },
      "execution_count": null,
      "outputs": []
    },
    {
      "cell_type": "code",
      "source": [
        "sm_layer(np.array([18.0, 20, 22000, 25]), np.array([1.0, 1.0, 0.0, 1.0]))"
      ],
      "metadata": {
        "colab": {
          "base_uri": "https://localhost:8080/"
        },
        "id": "OIWgbrLeIFtT",
        "outputId": "add75e38-5243-44a2-d9b1-8091a924a9fa"
      },
      "execution_count": null,
      "outputs": [
        {
          "output_type": "execute_result",
          "data": {
            "text/plain": [
              "<tf.Tensor: shape=(4,), dtype=float32, numpy=\n",
              "array([9.0495922e-04, 6.6867946e-03, 0.0000000e+00, 9.9240828e-01],\n",
              "      dtype=float32)>"
            ]
          },
          "metadata": {},
          "execution_count": 28
        }
      ]
    },
    {
      "cell_type": "code",
      "source": [
        "sm_layer(np.array([-222222.0, -222222, 22000, -222222]), np.array([1.0, 1.0, 0.0, 1.0]))"
      ],
      "metadata": {
        "colab": {
          "base_uri": "https://localhost:8080/"
        },
        "id": "iCn35tO7IG3_",
        "outputId": "9cd220d0-7e72-4f2e-adb9-7252be854a1e"
      },
      "execution_count": null,
      "outputs": [
        {
          "output_type": "execute_result",
          "data": {
            "text/plain": [
              "<tf.Tensor: shape=(4,), dtype=float32, numpy=array([0.33333334, 0.33333334, 0.        , 0.33333334], dtype=float32)>"
            ]
          },
          "metadata": {},
          "execution_count": 29
        }
      ]
    },
    {
      "cell_type": "code",
      "source": [
        "# OMG ! une action interdite est jouée\n",
        "sm_layer(np.array([-2e9, -2e9, 22000, -2e9]), np.array([1.0, 1.0, 0.0, 1.0]))"
      ],
      "metadata": {
        "colab": {
          "base_uri": "https://localhost:8080/"
        },
        "id": "NrsFG2seIJXT",
        "outputId": "41c30e2d-c900-4b1f-b930-a0461fcb9780"
      },
      "execution_count": null,
      "outputs": [
        {
          "output_type": "execute_result",
          "data": {
            "text/plain": [
              "<tf.Tensor: shape=(4,), dtype=float32, numpy=array([0., 0., 1., 0.], dtype=float32)>"
            ]
          },
          "metadata": {},
          "execution_count": 30
        }
      ]
    },
    {
      "cell_type": "code",
      "source": [
        "acceptable_softmax_with_mask(np.array([-2e9, -2e9, 22000, -2e9]), np.array([1.0, 1.0, 0.0, 1.0]))"
      ],
      "metadata": {
        "colab": {
          "base_uri": "https://localhost:8080/"
        },
        "id": "Hb2VuOwrIKmj",
        "outputId": "04d4c19b-7a10-4c36-e7b9-2df5453ce5cd"
      },
      "execution_count": null,
      "outputs": [
        {
          "output_type": "execute_result",
          "data": {
            "text/plain": [
              "array([0.33333333, 0.33333333, 0.        , 0.33333333])"
            ]
          },
          "metadata": {},
          "execution_count": 31
        }
      ]
    },
    {
      "cell_type": "code",
      "source": [],
      "metadata": {
        "id": "46x3X2nqINaz"
      },
      "execution_count": null,
      "outputs": []
    }
  ]
}